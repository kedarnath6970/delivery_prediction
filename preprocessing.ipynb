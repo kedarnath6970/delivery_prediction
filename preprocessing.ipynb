{
 "cells": [
  {
   "cell_type": "code",
   "execution_count": 1,
   "metadata": {},
   "outputs": [],
   "source": [
    "import pandas as pd\n",
    "import numpy as np"
   ]
  },
  {
   "cell_type": "code",
   "execution_count": 29,
   "metadata": {},
   "outputs": [],
   "source": [
    "def load_train_data(data_path):\n",
    "    train = pd.read_csv(data_path)\n",
    "    return train"
   ]
  },
  {
   "cell_type": "code",
   "execution_count": 43,
   "metadata": {},
   "outputs": [],
   "source": [
    "def prepare_train_data(data_path):\n",
    "    train = load_train_data(data_path)\n",
    "    target = train.actual_delivery_time\n",
    "    #train.drop(['actual_delivery_time'], axis=1, inplace=True)\n",
    "    return train, target"
   ]
  },
  {
   "cell_type": "code",
   "execution_count": 44,
   "metadata": {},
   "outputs": [
    {
     "data": {
      "text/html": [
       "<div>\n",
       "<style scoped>\n",
       "    .dataframe tbody tr th:only-of-type {\n",
       "        vertical-align: middle;\n",
       "    }\n",
       "\n",
       "    .dataframe tbody tr th {\n",
       "        vertical-align: top;\n",
       "    }\n",
       "\n",
       "    .dataframe thead th {\n",
       "        text-align: right;\n",
       "    }\n",
       "</style>\n",
       "<table border=\"1\" class=\"dataframe\">\n",
       "  <thead>\n",
       "    <tr style=\"text-align: right;\">\n",
       "      <th></th>\n",
       "      <th>market_id</th>\n",
       "      <th>created_at</th>\n",
       "      <th>actual_delivery_time</th>\n",
       "      <th>store_id</th>\n",
       "      <th>store_primary_category</th>\n",
       "      <th>order_protocol</th>\n",
       "      <th>total_items</th>\n",
       "      <th>subtotal</th>\n",
       "      <th>num_distinct_items</th>\n",
       "      <th>min_item_price</th>\n",
       "      <th>max_item_price</th>\n",
       "      <th>total_onshift_dashers</th>\n",
       "      <th>total_busy_dashers</th>\n",
       "      <th>total_outstanding_orders</th>\n",
       "      <th>estimated_order_place_duration</th>\n",
       "      <th>estimated_store_to_consumer_driving_duration</th>\n",
       "    </tr>\n",
       "  </thead>\n",
       "  <tbody>\n",
       "    <tr>\n",
       "      <th>0</th>\n",
       "      <td>1.0</td>\n",
       "      <td>2015-02-06 22:24:17</td>\n",
       "      <td>2015-02-06 23:27:16</td>\n",
       "      <td>1845</td>\n",
       "      <td>american</td>\n",
       "      <td>1.0</td>\n",
       "      <td>4</td>\n",
       "      <td>3441</td>\n",
       "      <td>4</td>\n",
       "      <td>557</td>\n",
       "      <td>1239</td>\n",
       "      <td>33.0</td>\n",
       "      <td>14.0</td>\n",
       "      <td>21.0</td>\n",
       "      <td>446</td>\n",
       "      <td>861.0</td>\n",
       "    </tr>\n",
       "    <tr>\n",
       "      <th>1</th>\n",
       "      <td>2.0</td>\n",
       "      <td>2015-02-10 21:49:25</td>\n",
       "      <td>2015-02-10 22:56:29</td>\n",
       "      <td>5477</td>\n",
       "      <td>mexican</td>\n",
       "      <td>2.0</td>\n",
       "      <td>1</td>\n",
       "      <td>1900</td>\n",
       "      <td>1</td>\n",
       "      <td>1400</td>\n",
       "      <td>1400</td>\n",
       "      <td>1.0</td>\n",
       "      <td>2.0</td>\n",
       "      <td>2.0</td>\n",
       "      <td>446</td>\n",
       "      <td>690.0</td>\n",
       "    </tr>\n",
       "    <tr>\n",
       "      <th>2</th>\n",
       "      <td>3.0</td>\n",
       "      <td>2015-01-22 20:39:28</td>\n",
       "      <td>2015-01-22 21:09:09</td>\n",
       "      <td>5477</td>\n",
       "      <td>NaN</td>\n",
       "      <td>1.0</td>\n",
       "      <td>1</td>\n",
       "      <td>1900</td>\n",
       "      <td>1</td>\n",
       "      <td>1900</td>\n",
       "      <td>1900</td>\n",
       "      <td>1.0</td>\n",
       "      <td>0.0</td>\n",
       "      <td>0.0</td>\n",
       "      <td>446</td>\n",
       "      <td>690.0</td>\n",
       "    </tr>\n",
       "    <tr>\n",
       "      <th>3</th>\n",
       "      <td>3.0</td>\n",
       "      <td>2015-02-03 21:21:45</td>\n",
       "      <td>2015-02-03 22:13:00</td>\n",
       "      <td>5477</td>\n",
       "      <td>NaN</td>\n",
       "      <td>1.0</td>\n",
       "      <td>6</td>\n",
       "      <td>6900</td>\n",
       "      <td>5</td>\n",
       "      <td>600</td>\n",
       "      <td>1800</td>\n",
       "      <td>1.0</td>\n",
       "      <td>1.0</td>\n",
       "      <td>2.0</td>\n",
       "      <td>446</td>\n",
       "      <td>289.0</td>\n",
       "    </tr>\n",
       "    <tr>\n",
       "      <th>4</th>\n",
       "      <td>3.0</td>\n",
       "      <td>2015-02-15 02:40:36</td>\n",
       "      <td>2015-02-15 03:20:26</td>\n",
       "      <td>5477</td>\n",
       "      <td>NaN</td>\n",
       "      <td>1.0</td>\n",
       "      <td>3</td>\n",
       "      <td>3900</td>\n",
       "      <td>3</td>\n",
       "      <td>1100</td>\n",
       "      <td>1600</td>\n",
       "      <td>6.0</td>\n",
       "      <td>6.0</td>\n",
       "      <td>9.0</td>\n",
       "      <td>446</td>\n",
       "      <td>650.0</td>\n",
       "    </tr>\n",
       "    <tr>\n",
       "      <th>5</th>\n",
       "      <td>3.0</td>\n",
       "      <td>2015-01-28 20:30:38</td>\n",
       "      <td>2015-01-28 21:08:58</td>\n",
       "      <td>5477</td>\n",
       "      <td>NaN</td>\n",
       "      <td>1.0</td>\n",
       "      <td>3</td>\n",
       "      <td>5000</td>\n",
       "      <td>3</td>\n",
       "      <td>1500</td>\n",
       "      <td>1900</td>\n",
       "      <td>2.0</td>\n",
       "      <td>2.0</td>\n",
       "      <td>2.0</td>\n",
       "      <td>446</td>\n",
       "      <td>338.0</td>\n",
       "    </tr>\n",
       "    <tr>\n",
       "      <th>6</th>\n",
       "      <td>3.0</td>\n",
       "      <td>2015-01-31 02:16:36</td>\n",
       "      <td>2015-01-31 02:43:00</td>\n",
       "      <td>5477</td>\n",
       "      <td>NaN</td>\n",
       "      <td>1.0</td>\n",
       "      <td>2</td>\n",
       "      <td>3900</td>\n",
       "      <td>2</td>\n",
       "      <td>1200</td>\n",
       "      <td>2700</td>\n",
       "      <td>10.0</td>\n",
       "      <td>9.0</td>\n",
       "      <td>9.0</td>\n",
       "      <td>446</td>\n",
       "      <td>638.0</td>\n",
       "    </tr>\n",
       "    <tr>\n",
       "      <th>7</th>\n",
       "      <td>3.0</td>\n",
       "      <td>2015-02-12 03:03:35</td>\n",
       "      <td>2015-02-12 03:36:20</td>\n",
       "      <td>5477</td>\n",
       "      <td>NaN</td>\n",
       "      <td>1.0</td>\n",
       "      <td>4</td>\n",
       "      <td>4850</td>\n",
       "      <td>4</td>\n",
       "      <td>750</td>\n",
       "      <td>1800</td>\n",
       "      <td>7.0</td>\n",
       "      <td>8.0</td>\n",
       "      <td>7.0</td>\n",
       "      <td>446</td>\n",
       "      <td>626.0</td>\n",
       "    </tr>\n",
       "    <tr>\n",
       "      <th>8</th>\n",
       "      <td>2.0</td>\n",
       "      <td>2015-02-16 00:11:35</td>\n",
       "      <td>2015-02-16 00:38:01</td>\n",
       "      <td>5477</td>\n",
       "      <td>indian</td>\n",
       "      <td>3.0</td>\n",
       "      <td>4</td>\n",
       "      <td>4771</td>\n",
       "      <td>3</td>\n",
       "      <td>820</td>\n",
       "      <td>1604</td>\n",
       "      <td>8.0</td>\n",
       "      <td>6.0</td>\n",
       "      <td>18.0</td>\n",
       "      <td>446</td>\n",
       "      <td>289.0</td>\n",
       "    </tr>\n",
       "    <tr>\n",
       "      <th>9</th>\n",
       "      <td>3.0</td>\n",
       "      <td>2015-02-18 01:15:45</td>\n",
       "      <td>2015-02-18 02:08:57</td>\n",
       "      <td>5477</td>\n",
       "      <td>NaN</td>\n",
       "      <td>1.0</td>\n",
       "      <td>2</td>\n",
       "      <td>2100</td>\n",
       "      <td>2</td>\n",
       "      <td>700</td>\n",
       "      <td>1200</td>\n",
       "      <td>2.0</td>\n",
       "      <td>2.0</td>\n",
       "      <td>2.0</td>\n",
       "      <td>446</td>\n",
       "      <td>715.0</td>\n",
       "    </tr>\n",
       "  </tbody>\n",
       "</table>\n",
       "</div>"
      ],
      "text/plain": [
       "   market_id           created_at actual_delivery_time  store_id  \\\n",
       "0        1.0  2015-02-06 22:24:17  2015-02-06 23:27:16      1845   \n",
       "1        2.0  2015-02-10 21:49:25  2015-02-10 22:56:29      5477   \n",
       "2        3.0  2015-01-22 20:39:28  2015-01-22 21:09:09      5477   \n",
       "3        3.0  2015-02-03 21:21:45  2015-02-03 22:13:00      5477   \n",
       "4        3.0  2015-02-15 02:40:36  2015-02-15 03:20:26      5477   \n",
       "5        3.0  2015-01-28 20:30:38  2015-01-28 21:08:58      5477   \n",
       "6        3.0  2015-01-31 02:16:36  2015-01-31 02:43:00      5477   \n",
       "7        3.0  2015-02-12 03:03:35  2015-02-12 03:36:20      5477   \n",
       "8        2.0  2015-02-16 00:11:35  2015-02-16 00:38:01      5477   \n",
       "9        3.0  2015-02-18 01:15:45  2015-02-18 02:08:57      5477   \n",
       "\n",
       "  store_primary_category  order_protocol  total_items  subtotal  \\\n",
       "0               american             1.0            4      3441   \n",
       "1                mexican             2.0            1      1900   \n",
       "2                    NaN             1.0            1      1900   \n",
       "3                    NaN             1.0            6      6900   \n",
       "4                    NaN             1.0            3      3900   \n",
       "5                    NaN             1.0            3      5000   \n",
       "6                    NaN             1.0            2      3900   \n",
       "7                    NaN             1.0            4      4850   \n",
       "8                 indian             3.0            4      4771   \n",
       "9                    NaN             1.0            2      2100   \n",
       "\n",
       "   num_distinct_items  min_item_price  max_item_price  total_onshift_dashers  \\\n",
       "0                   4             557            1239                   33.0   \n",
       "1                   1            1400            1400                    1.0   \n",
       "2                   1            1900            1900                    1.0   \n",
       "3                   5             600            1800                    1.0   \n",
       "4                   3            1100            1600                    6.0   \n",
       "5                   3            1500            1900                    2.0   \n",
       "6                   2            1200            2700                   10.0   \n",
       "7                   4             750            1800                    7.0   \n",
       "8                   3             820            1604                    8.0   \n",
       "9                   2             700            1200                    2.0   \n",
       "\n",
       "   total_busy_dashers  total_outstanding_orders  \\\n",
       "0                14.0                      21.0   \n",
       "1                 2.0                       2.0   \n",
       "2                 0.0                       0.0   \n",
       "3                 1.0                       2.0   \n",
       "4                 6.0                       9.0   \n",
       "5                 2.0                       2.0   \n",
       "6                 9.0                       9.0   \n",
       "7                 8.0                       7.0   \n",
       "8                 6.0                      18.0   \n",
       "9                 2.0                       2.0   \n",
       "\n",
       "   estimated_order_place_duration  \\\n",
       "0                             446   \n",
       "1                             446   \n",
       "2                             446   \n",
       "3                             446   \n",
       "4                             446   \n",
       "5                             446   \n",
       "6                             446   \n",
       "7                             446   \n",
       "8                             446   \n",
       "9                             446   \n",
       "\n",
       "   estimated_store_to_consumer_driving_duration  \n",
       "0                                         861.0  \n",
       "1                                         690.0  \n",
       "2                                         690.0  \n",
       "3                                         289.0  \n",
       "4                                         650.0  \n",
       "5                                         338.0  \n",
       "6                                         638.0  \n",
       "7                                         626.0  \n",
       "8                                         289.0  \n",
       "9                                         715.0  "
      ]
     },
     "execution_count": 44,
     "metadata": {},
     "output_type": "execute_result"
    }
   ],
   "source": [
    "train, target = prepare_train_data(\"historical_data.csv\")\n",
    "train.head(n=10)"
   ]
  },
  {
   "cell_type": "code",
   "execution_count": 80,
   "metadata": {},
   "outputs": [
    {
     "data": {
      "text/html": [
       "<div>\n",
       "<style scoped>\n",
       "    .dataframe tbody tr th:only-of-type {\n",
       "        vertical-align: middle;\n",
       "    }\n",
       "\n",
       "    .dataframe tbody tr th {\n",
       "        vertical-align: top;\n",
       "    }\n",
       "\n",
       "    .dataframe thead th {\n",
       "        text-align: right;\n",
       "    }\n",
       "</style>\n",
       "<table border=\"1\" class=\"dataframe\">\n",
       "  <thead>\n",
       "    <tr style=\"text-align: right;\">\n",
       "      <th></th>\n",
       "      <th>market_id</th>\n",
       "      <th>created_at</th>\n",
       "      <th>actual_delivery_time</th>\n",
       "      <th>store_id</th>\n",
       "      <th>store_primary_category</th>\n",
       "      <th>order_protocol</th>\n",
       "      <th>total_items</th>\n",
       "      <th>subtotal</th>\n",
       "      <th>num_distinct_items</th>\n",
       "      <th>min_item_price</th>\n",
       "      <th>max_item_price</th>\n",
       "      <th>total_onshift_dashers</th>\n",
       "      <th>total_busy_dashers</th>\n",
       "      <th>total_outstanding_orders</th>\n",
       "      <th>estimated_order_place_duration</th>\n",
       "      <th>estimated_store_to_consumer_driving_duration</th>\n",
       "      <th>ETA</th>\n",
       "      <th>Cooking Time</th>\n",
       "      <th>ordered_at_store</th>\n",
       "      <th>ordered_hour</th>\n",
       "    </tr>\n",
       "  </thead>\n",
       "  <tbody>\n",
       "    <tr>\n",
       "      <th>0</th>\n",
       "      <td>1.0</td>\n",
       "      <td>2015-02-06 22:24:17</td>\n",
       "      <td>2015-02-06 23:27:16</td>\n",
       "      <td>1845</td>\n",
       "      <td>american</td>\n",
       "      <td>1.0</td>\n",
       "      <td>4</td>\n",
       "      <td>3441</td>\n",
       "      <td>4</td>\n",
       "      <td>557</td>\n",
       "      <td>1239</td>\n",
       "      <td>33.0</td>\n",
       "      <td>14.0</td>\n",
       "      <td>21.0</td>\n",
       "      <td>446</td>\n",
       "      <td>861.0</td>\n",
       "      <td>3779.0</td>\n",
       "      <td>2472.0</td>\n",
       "      <td>2015-02-06 22:31:43</td>\n",
       "      <td>22</td>\n",
       "    </tr>\n",
       "    <tr>\n",
       "      <th>1</th>\n",
       "      <td>2.0</td>\n",
       "      <td>2015-02-10 21:49:25</td>\n",
       "      <td>2015-02-10 22:56:29</td>\n",
       "      <td>5477</td>\n",
       "      <td>mexican</td>\n",
       "      <td>2.0</td>\n",
       "      <td>1</td>\n",
       "      <td>1900</td>\n",
       "      <td>1</td>\n",
       "      <td>1400</td>\n",
       "      <td>1400</td>\n",
       "      <td>1.0</td>\n",
       "      <td>2.0</td>\n",
       "      <td>2.0</td>\n",
       "      <td>446</td>\n",
       "      <td>690.0</td>\n",
       "      <td>4024.0</td>\n",
       "      <td>2888.0</td>\n",
       "      <td>2015-02-10 21:56:51</td>\n",
       "      <td>21</td>\n",
       "    </tr>\n",
       "    <tr>\n",
       "      <th>2</th>\n",
       "      <td>3.0</td>\n",
       "      <td>2015-01-22 20:39:28</td>\n",
       "      <td>2015-01-22 21:09:09</td>\n",
       "      <td>5477</td>\n",
       "      <td>NaN</td>\n",
       "      <td>1.0</td>\n",
       "      <td>1</td>\n",
       "      <td>1900</td>\n",
       "      <td>1</td>\n",
       "      <td>1900</td>\n",
       "      <td>1900</td>\n",
       "      <td>1.0</td>\n",
       "      <td>0.0</td>\n",
       "      <td>0.0</td>\n",
       "      <td>446</td>\n",
       "      <td>690.0</td>\n",
       "      <td>1781.0</td>\n",
       "      <td>645.0</td>\n",
       "      <td>2015-01-22 20:46:54</td>\n",
       "      <td>20</td>\n",
       "    </tr>\n",
       "    <tr>\n",
       "      <th>3</th>\n",
       "      <td>3.0</td>\n",
       "      <td>2015-02-03 21:21:45</td>\n",
       "      <td>2015-02-03 22:13:00</td>\n",
       "      <td>5477</td>\n",
       "      <td>NaN</td>\n",
       "      <td>1.0</td>\n",
       "      <td>6</td>\n",
       "      <td>6900</td>\n",
       "      <td>5</td>\n",
       "      <td>600</td>\n",
       "      <td>1800</td>\n",
       "      <td>1.0</td>\n",
       "      <td>1.0</td>\n",
       "      <td>2.0</td>\n",
       "      <td>446</td>\n",
       "      <td>289.0</td>\n",
       "      <td>3075.0</td>\n",
       "      <td>2340.0</td>\n",
       "      <td>2015-02-03 21:29:11</td>\n",
       "      <td>21</td>\n",
       "    </tr>\n",
       "    <tr>\n",
       "      <th>4</th>\n",
       "      <td>3.0</td>\n",
       "      <td>2015-02-15 02:40:36</td>\n",
       "      <td>2015-02-15 03:20:26</td>\n",
       "      <td>5477</td>\n",
       "      <td>NaN</td>\n",
       "      <td>1.0</td>\n",
       "      <td>3</td>\n",
       "      <td>3900</td>\n",
       "      <td>3</td>\n",
       "      <td>1100</td>\n",
       "      <td>1600</td>\n",
       "      <td>6.0</td>\n",
       "      <td>6.0</td>\n",
       "      <td>9.0</td>\n",
       "      <td>446</td>\n",
       "      <td>650.0</td>\n",
       "      <td>2390.0</td>\n",
       "      <td>1294.0</td>\n",
       "      <td>2015-02-15 02:48:02</td>\n",
       "      <td>2</td>\n",
       "    </tr>\n",
       "  </tbody>\n",
       "</table>\n",
       "</div>"
      ],
      "text/plain": [
       "   market_id           created_at actual_delivery_time  store_id  \\\n",
       "0        1.0  2015-02-06 22:24:17  2015-02-06 23:27:16      1845   \n",
       "1        2.0  2015-02-10 21:49:25  2015-02-10 22:56:29      5477   \n",
       "2        3.0  2015-01-22 20:39:28  2015-01-22 21:09:09      5477   \n",
       "3        3.0  2015-02-03 21:21:45  2015-02-03 22:13:00      5477   \n",
       "4        3.0  2015-02-15 02:40:36  2015-02-15 03:20:26      5477   \n",
       "\n",
       "  store_primary_category  order_protocol  total_items  subtotal  \\\n",
       "0               american             1.0            4      3441   \n",
       "1                mexican             2.0            1      1900   \n",
       "2                    NaN             1.0            1      1900   \n",
       "3                    NaN             1.0            6      6900   \n",
       "4                    NaN             1.0            3      3900   \n",
       "\n",
       "   num_distinct_items  min_item_price  max_item_price  total_onshift_dashers  \\\n",
       "0                   4             557            1239                   33.0   \n",
       "1                   1            1400            1400                    1.0   \n",
       "2                   1            1900            1900                    1.0   \n",
       "3                   5             600            1800                    1.0   \n",
       "4                   3            1100            1600                    6.0   \n",
       "\n",
       "   total_busy_dashers  total_outstanding_orders  \\\n",
       "0                14.0                      21.0   \n",
       "1                 2.0                       2.0   \n",
       "2                 0.0                       0.0   \n",
       "3                 1.0                       2.0   \n",
       "4                 6.0                       9.0   \n",
       "\n",
       "   estimated_order_place_duration  \\\n",
       "0                             446   \n",
       "1                             446   \n",
       "2                             446   \n",
       "3                             446   \n",
       "4                             446   \n",
       "\n",
       "   estimated_store_to_consumer_driving_duration     ETA  Cooking Time  \\\n",
       "0                                         861.0  3779.0        2472.0   \n",
       "1                                         690.0  4024.0        2888.0   \n",
       "2                                         690.0  1781.0         645.0   \n",
       "3                                         289.0  3075.0        2340.0   \n",
       "4                                         650.0  2390.0        1294.0   \n",
       "\n",
       "     ordered_at_store  ordered_hour  \n",
       "0 2015-02-06 22:31:43            22  \n",
       "1 2015-02-10 21:56:51            21  \n",
       "2 2015-01-22 20:46:54            20  \n",
       "3 2015-02-03 21:29:11            21  \n",
       "4 2015-02-15 02:48:02             2  "
      ]
     },
     "execution_count": 80,
     "metadata": {},
     "output_type": "execute_result"
    }
   ],
   "source": [
    "import datetime\n",
    "create_time = pd.to_datetime(train['created_at'])\n",
    "delivery_time = pd.to_datetime(train['actual_delivery_time'])\n",
    "expected_time_arrival = delivery_time - create_time\n",
    "train['ETA'] = expected_time_arrival / np.timedelta64(1, 's')\n",
    "\n",
    "train['ordered_at_store'] = create_time + pd.to_timedelta(train['estimated_order_place_duration'], unit='s')\n",
    "train['ordered_hour'] = train['ordered_at_store'].dt.hour\n",
    "train['Cooking Time'] = train['ETA'] - train['estimated_order_place_duration'] - train['estimated_store_to_consumer_driving_duration']\n",
    "train.head()"
   ]
  },
  {
   "cell_type": "code",
   "execution_count": 52,
   "metadata": {},
   "outputs": [
    {
     "name": "stdout",
     "output_type": "stream",
     "text": [
      "[ 1.  2.  3.  4. nan  5.  6.]\n",
      "7\n"
     ]
    },
    {
     "data": {
      "image/png": "[encoded data removed]",
      "text/plain": [
       "<Figure size 432x288 with 1 Axes>"
      ]
     },
     "metadata": {
      "needs_background": "light"
     },
     "output_type": "display_data"
    }
   ],
   "source": [
    "import matplotlib.pyplot as plt\n",
    "\n",
    "uniq_stores = train.market_id.unique()\n",
    "print(uniq_stores)\n",
    "print(len(uniq_stores))\n",
    "plt.scatter(train['market_id'], np.log10(train['ETA']))\n",
    "plt.show()"
   ]
  },
  {
   "cell_type": "code",
   "execution_count": 55,
   "metadata": {},
   "outputs": [
    {
     "name": "stdout",
     "output_type": "stream",
     "text": [
      "[ 1.  2.  3.  4. nan  5.  6.  7.]\n"
     ]
    },
    {
     "data": {
      "image/png": "[encoded data removed]",
      "text/plain": [
       "<Figure size 432x288 with 1 Axes>"
      ]
     },
     "metadata": {
      "needs_background": "light"
     },
     "output_type": "display_data"
    }
   ],
   "source": [
    "uniq_protocols = train.order_protocol.unique()\n",
    "print(uniq_protocols)\n",
    "plt.scatter(train['order_protocol'], np.log10(train['ETA']))\n",
    "plt.show()"
   ]
  },
  {
   "cell_type": "code",
   "execution_count": 62,
   "metadata": {},
   "outputs": [
    {
     "data": {
      "image/png": "[encoded data removed]",
      "text/plain": [
       "<Figure size 432x288 with 1 Axes>"
      ]
     },
     "metadata": {
      "needs_background": "light"
     },
     "output_type": "display_data"
    }
   ],
   "source": [
    "primary_store_df = train[train.store_primary_category.notnull()]\n",
    "plt.scatter(primary_store_df['store_primary_category'], np.log10(primary_store_df['ETA']))\n",
    "plt.show()"
   ]
  },
  {
   "cell_type": "code",
   "execution_count": 67,
   "metadata": {},
   "outputs": [
    {
     "name": "stdout",
     "output_type": "stream",
     "text": [
      "[ 4  1  6  3  2  5  7  8 10  9 13 16 12 25 17 11 24 30 14 31 35 40 26 28\n",
      " 21 20 15 19 18 23 29 34 42 22 56 36 57 39 47 45 38 33 27 41 32 50 59 51\n",
      " 37 48 44 49 43 84 64 66]\n"
     ]
    },
    {
     "data": {
      "image/png": "[encoded data removed]",
      "text/plain": [
       "<Figure size 432x288 with 1 Axes>"
      ]
     },
     "metadata": {
      "needs_background": "light"
     },
     "output_type": "display_data"
    }
   ],
   "source": [
    "uniq_items = train.total_items.unique()\n",
    "print(uniq_items)\n",
    "train = train[train['total_items'] < 60]\n",
    "plt.scatter(train['total_items'], np.log10(train['ETA']))\n",
    "plt.show()"
   ]
  },
  {
   "cell_type": "code",
   "execution_count": 69,
   "metadata": {},
   "outputs": [
    {
     "name": "stdout",
     "output_type": "stream",
     "text": [
      "[ 33.   1.   6.   2.  10.   7.   8.   3.  16.   5.   4.  24.  12.  19.\n",
      "  21.  22.  27.  13.  18. 117. 130. 121.  94.  34.  17.  38.  20.  15.\n",
      "  39.  26.  30.  35.  11.  14.  32.  29.  25.  23.  61.  41.  58.  51.\n",
      "  57.  60.   9. 108.  72.  89. 112.  55. 126.  80.  69. 125. 113. 105.\n",
      "  98.  86.  90.  87.  74.  84.  91.  96. 123. 101. 119.  nan 129.  66.\n",
      "  81.  36.  75.  43.  70.  65.  77. 114.  62. 116. 102.  76.  67.  64.\n",
      "  88.  73.  63.  46.  28.  47. 110.  97.  42.  79.  49.  50.  37.  92.\n",
      " 103.  44.  68.  56.   0. 107.  78.  71. 128. 104.  45.  31. 100.  40.\n",
      "  53. 115. 109.  99.  85.  59. 118.  54.  52.  48. 132. 127. 133. 131.\n",
      " 149.  93. 111.  95.  82. 136. 120. 134. 124. 106. 137.  83. 152. 147.\n",
      " 144. 150. 145. 122. 155. 135. 151. 140. 141. 143. 138. 139. 156. 146.\n",
      "  -2. 160. 158. 154. 153. 148. 142. 157. 171.  -1.  -3. 162. 165. 163.\n",
      " 164. 159. 169.  -4. 168.]\n"
     ]
    },
    {
     "data": {
      "image/png": "[encoded data removed]",
      "text/plain": [
       "<Figure size 432x288 with 1 Axes>"
      ]
     },
     "metadata": {
      "needs_background": "light"
     },
     "output_type": "display_data"
    }
   ],
   "source": [
    "uniq_onshift_dashers = train.total_onshift_dashers.unique()\n",
    "print(uniq_onshift_dashers)\n",
    "train = train[train['total_onshift_dashers'] > 0]\n",
    "plt.scatter(train['total_onshift_dashers'], np.log10(train['ETA']))\n",
    "plt.show()"
   ]
  },
  {
   "cell_type": "code",
   "execution_count": 82,
   "metadata": {},
   "outputs": [
    {
     "name": "stdout",
     "output_type": "stream",
     "text": [
      "[22 21 20  2  3  0  1 19  4 23  5 18  6  7 17 16 15 14]\n"
     ]
    },
    {
     "data": {
      "image/png": "[encoded data removed]",
      "text/plain": [
       "<Figure size 432x288 with 1 Axes>"
      ]
     },
     "metadata": {
      "needs_background": "light"
     },
     "output_type": "display_data"
    }
   ],
   "source": [
    "uniq_ordered_hour = train.ordered_hour.unique()\n",
    "print(uniq_ordered_hour)\n",
    "plt.scatter(train['ordered_hour'], np.log10(train['ETA']))\n",
    "plt.show()"
   ]
  },
  {
   "cell_type": "code",
   "execution_count": 85,
   "metadata": {},
   "outputs": [
    {
     "name": "stdout",
     "output_type": "stream",
     "text": [
      "[ 21.   2.   9.   7.  18.   1.   4.   3.   8.  12.  26.  11.  30.  16.\n",
      "  39.  24.  27.  20.  13. 178. 230. 205. 149.  28.  15.  42.  43.  33.\n",
      "   5.  37.  46.  36.  14.  29.  32.  72.  41.  54.  49.  23.  56.  60.\n",
      "  10.   6. 154. 144.  34. 100. 173.  80. 202. 124. 130. 181. 188. 148.\n",
      " 150. 127. 160. 107. 123. 159. 186. 143. 190. 171. 261. 132.  67. 120.\n",
      " 158.  59.  38.  47.  68.  92.  99. 175. 102. 184. 121.  17.  96. 111.\n",
      "  22. 131. 141.  89.  48.  65. 194.  73.  45. 203. 134. 126. 183.  64.\n",
      " 167.  31. 153. 119.  75.  95.  52. 118. 191.  61. 106.  19.  58. 152.\n",
      " 101.  35. 151.  83. 179.  97.  44.  25. 147. 169. 135. 142. 165. 172.\n",
      "  91.  40. 237. 198. 220. 219.  78.  90. 138. 168.  85.  81. 212. 192.\n",
      " 137. 189.  51.  74.  62.  63.  50. 122.  93.  66. 207. 113. 114.  69.\n",
      "  57.  86.  71.  79.  87.  88.  70.  84. 108.  76.  53.  55.  82. 110.\n",
      "  98. 185. 225. 104. 145. 247. 232.  77. 133. 103. 174. 164. 193. 208.\n",
      " 231. 163.  94. 146. 115. 129. 112. 136. 162. 176. 246. 199. 116. 109.\n",
      " 161. 105. 125. 177. 196. 221. 217. 211. 272. 156. 242. 117. 140. 139.\n",
      " 187. 166. 236. 276. 229. 213. 180. 155. 256. 254. 243. 204. 157. 200.\n",
      " 128. 195. 170. 201. 197. 215. 210. 182. 222. 226. 223. 250. 238. 218.\n",
      " 239. 234. 262. 235. 214. 216. 251. 252. 270. 240. 253. 228. 258. 209.\n",
      " 274. 206. 224. 285. 248. 269. 257. 241. 227. 278. 244. 265. 249. 268.\n",
      " 277. 233. 264. 259. 283. 245. 273. 260.]\n"
     ]
    },
    {
     "data": {
      "image/png": "[encoded data removed]",
      "text/plain": [
       "<Figure size 432x288 with 1 Axes>"
      ]
     },
     "metadata": {
      "needs_background": "light"
     },
     "output_type": "display_data"
    }
   ],
   "source": [
    "uniq_outstanding_orders = train.total_outstanding_orders.unique()\n",
    "print(uniq_outstanding_orders)\n",
    "plt.scatter(train['total_outstanding_orders'], np.log10(train['ETA']))\n",
    "plt.show()"
   ]
  },
  {
   "cell_type": "code",
   "execution_count": 87,
   "metadata": {},
   "outputs": [
    {
     "data": {
      "image/png": "[encoded data removed]",
      "text/plain": [
       "<Figure size 432x288 with 1 Axes>"
      ]
     },
     "metadata": {
      "needs_background": "light"
     },
     "output_type": "display_data"
    }
   ],
   "source": [
    "plt.scatter(train['total_items'], np.log10(train['Cooking Time']))\n",
    "plt.show()"
   ]
  },
  {
   "cell_type": "code",
   "execution_count": null,
   "metadata": {},
   "outputs": [],
   "source": []
  }
 ],
 "metadata": {
  "kernelspec": {
   "display_name": "Python 3",
   "language": "python",
   "name": "python3"
  },
  "language_info": {
   "codemirror_mode": {
    "name": "ipython",
    "version": 3
   },
   "file_extension": ".py",
   "mimetype": "text/x-python",
   "name": "python",
   "nbconvert_exporter": "python",
   "pygments_lexer": "ipython3",
   "version": "3.7.6"
  }
 },
 "nbformat": 4,
 "nbformat_minor": 4
}
